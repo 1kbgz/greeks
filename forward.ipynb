{
 "cells": [
  {
   "cell_type": "code",
   "execution_count": 1,
   "metadata": {},
   "outputs": [],
   "source": [
    "import tributary.lazy as tl\n",
    "from greeks import Env, Point\n",
    "from datetime import datetime, timedelta"
   ]
  },
  {
   "cell_type": "code",
   "execution_count": 2,
   "metadata": {},
   "outputs": [],
   "source": [
    "e = Env()"
   ]
  },
  {
   "cell_type": "code",
   "execution_count": 3,
   "metadata": {},
   "outputs": [
    {
     "data": {
      "text/plain": [
       "datetime.datetime(2021, 3, 3, 0, 37, 46, 416257)"
      ]
     },
     "execution_count": 3,
     "metadata": {},
     "output_type": "execute_result"
    }
   ],
   "source": [
    "e.now().eval()"
   ]
  },
  {
   "cell_type": "code",
   "execution_count": 4,
   "metadata": {},
   "outputs": [],
   "source": [
    "# e.now().setValue(datetime.now())"
   ]
  },
  {
   "cell_type": "code",
   "execution_count": 5,
   "metadata": {},
   "outputs": [],
   "source": [
    "# e.now().unlock()"
   ]
  },
  {
   "cell_type": "code",
   "execution_count": 6,
   "metadata": {},
   "outputs": [],
   "source": [
    "# e.now().graphviz()"
   ]
  },
  {
   "cell_type": "code",
   "execution_count": 7,
   "metadata": {},
   "outputs": [],
   "source": [
    "pt = Point(e)"
   ]
  },
  {
   "cell_type": "code",
   "execution_count": 8,
   "metadata": {},
   "outputs": [],
   "source": [
    "# pt._value._callable_kwargs[\"now\"]"
   ]
  },
  {
   "cell_type": "code",
   "execution_count": 9,
   "metadata": {},
   "outputs": [
    {
     "data": {
      "text/plain": [
       "nan"
      ]
     },
     "execution_count": 9,
     "metadata": {},
     "output_type": "execute_result"
    }
   ],
   "source": [
    "pt.value()"
   ]
  },
  {
   "cell_type": "code",
   "execution_count": 10,
   "metadata": {},
   "outputs": [],
   "source": [
    "# pt.setValue(50)"
   ]
  },
  {
   "cell_type": "code",
   "execution_count": 11,
   "metadata": {},
   "outputs": [],
   "source": [
    "# pt._value.graphviz()"
   ]
  },
  {
   "cell_type": "code",
   "execution_count": 12,
   "metadata": {},
   "outputs": [],
   "source": [
    "# pt.plot()"
   ]
  },
  {
   "cell_type": "code",
   "execution_count": 13,
   "metadata": {},
   "outputs": [],
   "source": [
    "class RFR(Point):\n",
    "    def __init__(self, value=0, *args, **kwargs):\n",
    "        super().__init__(name=\"RFR\")\n",
    "        self.setValue(value)\n",
    "\n",
    "# class Forward(Point):\n",
    "#     def __init__(self, underlying: Point, rfr: Point, *args, **kwargs):\n",
    "#         super().__init__(name=\"Forward\", *args, **kwargs)\n",
    "    "
   ]
  },
  {
   "cell_type": "code",
   "execution_count": 14,
   "metadata": {},
   "outputs": [],
   "source": [
    "'''\n",
    "Consider a forward contract that has a term of 2 years.\n",
    "The price of the asset underlying the contract is currently\n",
    "$200 and the risk-free rate is 9%. Given the forward price\n",
    "of $220, the value of the forward contract at initiation is\n",
    "closest to:\n",
    "\n",
    "A. $14.83\n",
    "\n",
    "B. -$1.83\n",
    "\n",
    "C. $31.66\n",
    "\n",
    "Solution\n",
    "\n",
    "The correct answer is A.\n",
    "\n",
    "In this scenario, the value of the forward contract at initiation\n",
    "is the difference between the price of the underlying asset today\n",
    "and the forward price discounted at the risk-free rate:\n",
    "\n",
    "200 – [220 / (1 + 0.09)^2] = $14.83\n",
    "\n",
    "Note that the forward price at contract initiation is the unique\n",
    "price that would induce traders to participate in arbitrage until\n",
    "the price of the forward contract equals the non-arbitrage forward\n",
    "price.''';"
   ]
  },
  {
   "cell_type": "code",
   "execution_count": 31,
   "metadata": {},
   "outputs": [],
   "source": [
    "rfr = RFR()\n",
    "asset = Point()"
   ]
  },
  {
   "cell_type": "code",
   "execution_count": 32,
   "metadata": {},
   "outputs": [],
   "source": [
    "# fix point in time\n",
    "e.now().setValue(datetime(2021, 3, 3))\n",
    "\n",
    "# set value of asset and rfr\n",
    "term = 2 # 2 years\n",
    "rfr.setValue(0.09) # 9%\n",
    "asset.setValue(200) # $200 underlying asset price at start\n",
    "start = tl.Node(value=e.now().eval())  # start now"
   ]
  },
  {
   "cell_type": "code",
   "execution_count": 33,
   "metadata": {},
   "outputs": [],
   "source": [
    "CONTINUOUS = -1\n",
    "SECOND = 1\n",
    "MINUTE = 60\n",
    "HOUR = MINUTE * 60\n",
    "DAILY = HOUR * 24\n",
    "WEEKLY = DAILY * 7\n",
    "MONTHLY = DAILY * 30\n",
    "YEARLY = DAILY * 365"
   ]
  },
  {
   "cell_type": "code",
   "execution_count": 34,
   "metadata": {},
   "outputs": [],
   "source": [
    "def price(now, asset, rfr, start):\n",
    "    return asset / (1.0 + rfr) ** ((now - start).total_seconds() / YEARLY)\n",
    "\n",
    "def price1(now, asset, rfr, start):\n",
    "    return asset.value() / (1.0 + rfr.value()) ** ((now.value() - start.value()).total_seconds() / YEARLY)\n",
    "\n",
    "def price2(now, asset, rfr, start):\n",
    "    return asset / (1.0 + rfr) ** ((now - start)().total_seconds() / YEARLY)\n"
   ]
  },
  {
   "cell_type": "code",
   "execution_count": 35,
   "metadata": {},
   "outputs": [],
   "source": [
    "# price(datetime.now(), 200, 0.09, datetime(2020, 3, 3, 0))"
   ]
  },
  {
   "cell_type": "code",
   "execution_count": 36,
   "metadata": {},
   "outputs": [],
   "source": [
    "n = tl.Node(callable=price1, callable_kwargs={\"now\": e.now(), \"asset\": asset.node(), \"rfr\": rfr.node(), \"start\": start})"
   ]
  },
  {
   "cell_type": "code",
   "execution_count": 37,
   "metadata": {},
   "outputs": [
    {
     "data": {
      "text/plain": [
       "200.0"
      ]
     },
     "execution_count": 37,
     "metadata": {},
     "output_type": "execute_result"
    }
   ],
   "source": [
    "n()"
   ]
  },
  {
   "cell_type": "code",
   "execution_count": 38,
   "metadata": {},
   "outputs": [],
   "source": [
    "# e.now().setValue(datetime(2021, 3, 3))"
   ]
  },
  {
   "cell_type": "code",
   "execution_count": 39,
   "metadata": {},
   "outputs": [],
   "source": [
    "start.setValue(datetime(2020, 3, 3))"
   ]
  },
  {
   "cell_type": "code",
   "execution_count": 40,
   "metadata": {},
   "outputs": [
    {
     "data": {
      "text/plain": [
       "183.48623853211006"
      ]
     },
     "execution_count": 40,
     "metadata": {},
     "output_type": "execute_result"
    }
   ],
   "source": [
    "n()"
   ]
  },
  {
   "cell_type": "code",
   "execution_count": 41,
   "metadata": {},
   "outputs": [
    {
     "data": {
      "image/svg+xml": [
       "<?xml version=\"1.0\" encoding=\"UTF-8\" standalone=\"no\"?>\n",
       "<!DOCTYPE svg PUBLIC \"-//W3C//DTD SVG 1.1//EN\"\n",
       " \"http://www.w3.org/Graphics/SVG/1.1/DTD/svg11.dtd\">\n",
       "<!-- Generated by graphviz version 2.46.1 (20210213.1702)\n",
       " -->\n",
       "<!-- Title: ?#14 Pages: 1 -->\n",
       "<svg width=\"298pt\" height=\"188pt\"\n",
       " viewBox=\"0.00 0.00 298.00 188.00\" xmlns=\"http://www.w3.org/2000/svg\" xmlns:xlink=\"http://www.w3.org/1999/xlink\">\n",
       "<g id=\"graph0\" class=\"graph\" transform=\"scale(1 1) rotate(0) translate(4 184)\">\n",
       "<title>?#14</title>\n",
       "<polygon fill=\"white\" stroke=\"transparent\" points=\"-4,4 -4,-184 294,-184 294,4 -4,4\"/>\n",
       "<!-- ?#14 -->\n",
       "<g id=\"node1\" class=\"node\">\n",
       "<title>?#14</title>\n",
       "<polygon fill=\"none\" stroke=\"teal\" points=\"173,-36 119,-36 119,0 173,0 173,-36\"/>\n",
       "<text text-anchor=\"middle\" x=\"146\" y=\"-14.3\" font-family=\"Times,serif\" font-size=\"14.00\">?#14</text>\n",
       "</g>\n",
       "<!-- Env#0 -->\n",
       "<g id=\"node2\" class=\"node\">\n",
       "<title>Env#0</title>\n",
       "<polygon fill=\"none\" stroke=\"black\" points=\"54,-108 0,-108 0,-72 54,-72 54,-108\"/>\n",
       "<text text-anchor=\"middle\" x=\"27\" y=\"-86.3\" font-family=\"Times,serif\" font-size=\"14.00\">Env#0</text>\n",
       "</g>\n",
       "<!-- Env#0&#45;&gt;?#14 -->\n",
       "<g id=\"edge1\" class=\"edge\">\n",
       "<title>Env#0&#45;&gt;?#14</title>\n",
       "<path fill=\"none\" stroke=\"black\" d=\"M54,-73.12C70.47,-63.43 91.73,-50.92 109.66,-40.38\"/>\n",
       "<polygon fill=\"black\" stroke=\"black\" points=\"111.85,-43.15 118.69,-35.06 108.3,-37.12 111.85,-43.15\"/>\n",
       "</g>\n",
       "<!-- Point#12 -->\n",
       "<g id=\"node3\" class=\"node\">\n",
       "<title>Point#12</title>\n",
       "<polygon fill=\"none\" stroke=\"teal\" points=\"137.5,-108 72.5,-108 72.5,-72 137.5,-72 137.5,-108\"/>\n",
       "<text text-anchor=\"middle\" x=\"105\" y=\"-86.3\" font-family=\"Times,serif\" font-size=\"14.00\">Point#12</text>\n",
       "</g>\n",
       "<!-- Point#12&#45;&gt;?#14 -->\n",
       "<g id=\"edge3\" class=\"edge\">\n",
       "<title>Point#12&#45;&gt;?#14</title>\n",
       "<path fill=\"none\" stroke=\"magenta\" d=\"M115.13,-71.7C119.85,-63.64 125.56,-53.89 130.78,-44.98\"/>\n",
       "<polygon fill=\"magenta\" stroke=\"magenta\" points=\"133.95,-46.5 135.98,-36.1 127.91,-42.96 133.95,-46.5\"/>\n",
       "</g>\n",
       "<!-- Env#11 -->\n",
       "<g id=\"node4\" class=\"node\">\n",
       "<title>Env#11</title>\n",
       "<polygon fill=\"none\" stroke=\"teal\" points=\"134.5,-180 75.5,-180 75.5,-144 134.5,-144 134.5,-180\"/>\n",
       "<text text-anchor=\"middle\" x=\"105\" y=\"-158.3\" font-family=\"Times,serif\" font-size=\"14.00\">Env#11</text>\n",
       "</g>\n",
       "<!-- Env#11&#45;&gt;Point#12 -->\n",
       "<g id=\"edge2\" class=\"edge\">\n",
       "<title>Env#11&#45;&gt;Point#12</title>\n",
       "<path fill=\"none\" stroke=\"magenta\" d=\"M105,-143.7C105,-135.98 105,-126.71 105,-118.11\"/>\n",
       "<polygon fill=\"magenta\" stroke=\"magenta\" points=\"108.5,-118.1 105,-108.1 101.5,-118.1 108.5,-118.1\"/>\n",
       "</g>\n",
       "<!-- RFR#10 -->\n",
       "<g id=\"node5\" class=\"node\">\n",
       "<title>RFR#10</title>\n",
       "<polygon fill=\"none\" stroke=\"teal\" points=\"218,-108 156,-108 156,-72 218,-72 218,-108\"/>\n",
       "<text text-anchor=\"middle\" x=\"187\" y=\"-86.3\" font-family=\"Times,serif\" font-size=\"14.00\">RFR#10</text>\n",
       "</g>\n",
       "<!-- RFR#10&#45;&gt;?#14 -->\n",
       "<g id=\"edge5\" class=\"edge\">\n",
       "<title>RFR#10&#45;&gt;?#14</title>\n",
       "<path fill=\"none\" stroke=\"magenta\" d=\"M176.87,-71.7C172.15,-63.64 166.44,-53.89 161.22,-44.98\"/>\n",
       "<polygon fill=\"magenta\" stroke=\"magenta\" points=\"164.09,-42.96 156.02,-36.1 158.05,-46.5 164.09,-42.96\"/>\n",
       "</g>\n",
       "<!-- Env#9 -->\n",
       "<g id=\"node6\" class=\"node\">\n",
       "<title>Env#9</title>\n",
       "<polygon fill=\"none\" stroke=\"teal\" points=\"214,-180 160,-180 160,-144 214,-144 214,-180\"/>\n",
       "<text text-anchor=\"middle\" x=\"187\" y=\"-158.3\" font-family=\"Times,serif\" font-size=\"14.00\">Env#9</text>\n",
       "</g>\n",
       "<!-- Env#9&#45;&gt;RFR#10 -->\n",
       "<g id=\"edge4\" class=\"edge\">\n",
       "<title>Env#9&#45;&gt;RFR#10</title>\n",
       "<path fill=\"none\" stroke=\"magenta\" d=\"M187,-143.7C187,-135.98 187,-126.71 187,-118.11\"/>\n",
       "<polygon fill=\"magenta\" stroke=\"magenta\" points=\"190.5,-118.1 187,-108.1 183.5,-118.1 190.5,-118.1\"/>\n",
       "</g>\n",
       "<!-- ?#13 -->\n",
       "<g id=\"node7\" class=\"node\">\n",
       "<title>?#13</title>\n",
       "<polygon fill=\"none\" stroke=\"black\" points=\"290,-108 236,-108 236,-72 290,-72 290,-108\"/>\n",
       "<text text-anchor=\"middle\" x=\"263\" y=\"-86.3\" font-family=\"Times,serif\" font-size=\"14.00\">?#13</text>\n",
       "</g>\n",
       "<!-- ?#13&#45;&gt;?#14 -->\n",
       "<g id=\"edge6\" class=\"edge\">\n",
       "<title>?#13&#45;&gt;?#14</title>\n",
       "<path fill=\"none\" stroke=\"black\" d=\"M235.86,-72.76C219.88,-63.2 199.47,-50.99 182.14,-40.62\"/>\n",
       "<polygon fill=\"black\" stroke=\"black\" points=\"183.77,-37.52 173.39,-35.39 180.18,-43.53 183.77,-37.52\"/>\n",
       "</g>\n",
       "</g>\n",
       "</svg>\n"
      ],
      "text/plain": [
       "<graphviz.dot.Digraph at 0x124dfbf10>"
      ]
     },
     "execution_count": 41,
     "metadata": {},
     "output_type": "execute_result"
    }
   ],
   "source": [
    "n.graphviz()"
   ]
  },
  {
   "cell_type": "code",
   "execution_count": 42,
   "metadata": {},
   "outputs": [],
   "source": [
    "start.setValue(datetime(2019, 3, 3))"
   ]
  },
  {
   "cell_type": "code",
   "execution_count": 43,
   "metadata": {},
   "outputs": [
    {
     "data": {
      "text/plain": [
       "168.29625866388562"
      ]
     },
     "execution_count": 43,
     "metadata": {},
     "output_type": "execute_result"
    }
   ],
   "source": [
    "n()"
   ]
  },
  {
   "cell_type": "code",
   "execution_count": 44,
   "metadata": {},
   "outputs": [],
   "source": [
    "start.setValue(datetime(2021, 2, 3))"
   ]
  },
  {
   "cell_type": "code",
   "execution_count": 45,
   "metadata": {},
   "outputs": [
    {
     "data": {
      "text/plain": [
       "198.68218242088042"
      ]
     },
     "execution_count": 45,
     "metadata": {},
     "output_type": "execute_result"
    }
   ],
   "source": [
    "n()"
   ]
  },
  {
   "cell_type": "code",
   "execution_count": 46,
   "metadata": {},
   "outputs": [],
   "source": [
    "start.setValue(datetime(2021, 3, 3))"
   ]
  },
  {
   "cell_type": "code",
   "execution_count": 47,
   "metadata": {},
   "outputs": [
    {
     "data": {
      "text/plain": [
       "200.0"
      ]
     },
     "execution_count": 47,
     "metadata": {},
     "output_type": "execute_result"
    }
   ],
   "source": [
    "n()"
   ]
  },
  {
   "cell_type": "code",
   "execution_count": 48,
   "metadata": {},
   "outputs": [],
   "source": [
    "rfr.setValue(0.05) # set rfr to 5%"
   ]
  },
  {
   "cell_type": "code",
   "execution_count": 49,
   "metadata": {},
   "outputs": [],
   "source": [
    "start.setValue(datetime(2019, 3, 3)) # try 2019/03/03 again"
   ]
  },
  {
   "cell_type": "code",
   "execution_count": 50,
   "metadata": {},
   "outputs": [
    {
     "data": {
      "text/plain": [
       "181.38164848090798"
      ]
     },
     "execution_count": 50,
     "metadata": {},
     "output_type": "execute_result"
    }
   ],
   "source": [
    "n() # 181 < 168 because 0.05% < 0.09% time-value of money"
   ]
  },
  {
   "cell_type": "code",
   "execution_count": null,
   "metadata": {},
   "outputs": [],
   "source": []
  }
 ],
 "metadata": {
  "kernelspec": {
   "display_name": "Python 3",
   "language": "python",
   "name": "python3"
  },
  "language_info": {
   "codemirror_mode": {
    "name": "ipython",
    "version": 3
   },
   "file_extension": ".py",
   "mimetype": "text/x-python",
   "name": "python",
   "nbconvert_exporter": "python",
   "pygments_lexer": "ipython3",
   "version": "3.9.2"
  }
 },
 "nbformat": 4,
 "nbformat_minor": 4
}
