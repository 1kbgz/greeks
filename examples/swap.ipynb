{
 "cells": [
  {
   "cell_type": "code",
   "execution_count": 69,
   "id": "timely-milan",
   "metadata": {},
   "outputs": [],
   "source": [
    "from datetime import datetime, timedelta\n",
    "import greeks as gk\n",
    "e = gk.Env(datetime.now())\n",
    "\n",
    "start = gk.Point(env=e, value=e.now().value())"
   ]
  },
  {
   "cell_type": "code",
   "execution_count": 70,
   "id": "optional-austria",
   "metadata": {},
   "outputs": [],
   "source": [
    "rate = gk.Rate(env=e, name=\"Rate\", value=5, at=e.now())"
   ]
  },
  {
   "cell_type": "code",
   "execution_count": 71,
   "id": "better-street",
   "metadata": {},
   "outputs": [
    {
     "data": {
      "text/plain": [
       "5"
      ]
     },
     "execution_count": 71,
     "metadata": {},
     "output_type": "execute_result"
    }
   ],
   "source": [
    "rate()"
   ]
  },
  {
   "cell_type": "code",
   "execution_count": 72,
   "id": "whole-kentucky",
   "metadata": {},
   "outputs": [],
   "source": [
    "def settle(underlying, start, now):\n",
    "    # if underlying > underlying@start, credit difference\n",
    "    # else debit difference\n",
    "    start = start.value()\n",
    "    now = now.value()\n",
    "    return underlying.value(at=now) - underlying.value(at=start)\n",
    "        "
   ]
  },
  {
   "cell_type": "code",
   "execution_count": 73,
   "id": "breeding-occurrence",
   "metadata": {},
   "outputs": [],
   "source": [
    "class FloatingLeg(gk.Timeseries):\n",
    "    def __init__(self, env, start, underlying):\n",
    "        self._start = start\n",
    "        self._underlying = underlying\n",
    "\n",
    "        super().__init__(\n",
    "            env=env,\n",
    "            name=\"FloatingLeg\",\n",
    "            callable=settle,\n",
    "            callable_kwargs={\n",
    "                \"start\": self._start,\n",
    "                \"now\": env.now(),\n",
    "                \"underlying\": self._underlying,\n",
    "            },\n",
    "        )\n"
   ]
  },
  {
   "cell_type": "code",
   "execution_count": 74,
   "id": "incorrect-university",
   "metadata": {},
   "outputs": [],
   "source": [
    "fl = FloatingLeg(env=e, start=start, underlying=rate)"
   ]
  },
  {
   "cell_type": "code",
   "execution_count": 75,
   "id": "hired-stationery",
   "metadata": {},
   "outputs": [
    {
     "data": {
      "text/plain": [
       "0"
      ]
     },
     "execution_count": 75,
     "metadata": {},
     "output_type": "execute_result"
    }
   ],
   "source": [
    "fl()"
   ]
  },
  {
   "cell_type": "code",
   "execution_count": 76,
   "id": "eleven-dressing",
   "metadata": {},
   "outputs": [],
   "source": [
    "rate.setValue(value=6, at=start() + timedelta(days=1))"
   ]
  },
  {
   "cell_type": "code",
   "execution_count": 100,
   "id": "powerful-vacuum",
   "metadata": {},
   "outputs": [],
   "source": [
    "e.now().setValue(start() + timedelta(days=1))"
   ]
  },
  {
   "cell_type": "code",
   "execution_count": 101,
   "id": "painted-moscow",
   "metadata": {},
   "outputs": [
    {
     "data": {
      "text/plain": [
       "1"
      ]
     },
     "execution_count": 101,
     "metadata": {},
     "output_type": "execute_result"
    }
   ],
   "source": [
    "fl()"
   ]
  },
  {
   "cell_type": "code",
   "execution_count": 83,
   "id": "brave-pierce",
   "metadata": {},
   "outputs": [
    {
     "data": {
      "text/plain": [
       "Timestamp('2021-03-12 22:37:32.893950')"
      ]
     },
     "execution_count": 83,
     "metadata": {},
     "output_type": "execute_result"
    }
   ],
   "source": [
    "e.now()()"
   ]
  },
  {
   "cell_type": "code",
   "execution_count": 102,
   "id": "latin-dance",
   "metadata": {},
   "outputs": [
    {
     "data": {
      "text/plain": [
       "Timestamp('2021-03-11 22:37:32.893950')"
      ]
     },
     "execution_count": 102,
     "metadata": {},
     "output_type": "execute_result"
    }
   ],
   "source": [
    "e.now()()"
   ]
  },
  {
   "cell_type": "code",
   "execution_count": null,
   "id": "fifteen-maine",
   "metadata": {},
   "outputs": [],
   "source": []
  },
  {
   "cell_type": "code",
   "execution_count": null,
   "id": "qualified-taylor",
   "metadata": {},
   "outputs": [],
   "source": []
  }
 ],
 "metadata": {
  "kernelspec": {
   "display_name": "Python 3",
   "language": "python",
   "name": "python3"
  },
  "language_info": {
   "codemirror_mode": {
    "name": "ipython",
    "version": 3
   },
   "file_extension": ".py",
   "mimetype": "text/x-python",
   "name": "python",
   "nbconvert_exporter": "python",
   "pygments_lexer": "ipython3",
   "version": "3.9.2"
  }
 },
 "nbformat": 4,
 "nbformat_minor": 5
}
